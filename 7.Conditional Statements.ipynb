{
 "cells": [
  {
   "cell_type": "markdown",
   "id": "7d89b320",
   "metadata": {},
   "source": [
    "# Conditional Statements "
   ]
  },
  {
   "cell_type": "raw",
   "id": "b22f0ec8",
   "metadata": {},
   "source": [
    "we will understand this with a simple example \n",
    "==> \n",
    "previously we wrote a code of align text in strings \n",
    "we will use that for better understanding of conditional statements\n",
    "conditional statements are nothing but based on conditions it executes "
   ]
  },
  {
   "cell_type": "code",
   "execution_count": 1,
   "id": "20465ef0",
   "metadata": {},
   "outputs": [
    {
     "name": "stdout",
     "output_type": "stream",
     "text": [
      "enter the string below: String\n",
      "                                                         String                                                         \n",
      "String                                                                                                                  \n",
      "                                                                                                                  String\n"
     ]
    }
   ],
   "source": [
    "import os\n",
    "os=os.get_terminal_size()\n",
    "size=os.columns\n",
    "str=input(\"enter the string below: \")\n",
    "print(str.center(size))\n",
    "print(str.ljust(size))\n",
    "print(str.rjust(size))"
   ]
  },
  {
   "cell_type": "code",
   "execution_count": 4,
   "id": "5c0b8fd9",
   "metadata": {},
   "outputs": [
    {
     "name": "stdout",
     "output_type": "stream",
     "text": [
      "enter the string below: python\n",
      "do you want to align if so say either 'yes' or 'no' onlyno\n",
      "python\n"
     ]
    }
   ],
   "source": [
    "# the above output will execute \n",
    "# we want to give some condition that if user says yes it must align\n",
    "import os\n",
    "os=os.get_terminal_size()\n",
    "size=os.columns\n",
    "str=input(\"enter the string below: \")\n",
    "output=input(\"do you want to align if so say either 'yes' or 'no' only\")\n",
    "if output==\"yes\":\n",
    "    print(str.center(size))\n",
    "    print(str.ljust(size))\n",
    "    print(str.rjust(size))\n",
    "else:\n",
    "    print(str)"
   ]
  },
  {
   "cell_type": "raw",
   "id": "90d75cb5",
   "metadata": {},
   "source": [
    "we use generally these statements \n",
    "if\n",
    "if else\n",
    "elif\n",
    "nested if\n",
    "if ===> and,or\n",
    "shorthand if ===> if in a same line with statement\n",
    "shorthand if else ===> single condition if elase in a same line\n",
    "if ===> pass (no statement is there, to avoid error)\n",
    "Ref:\n",
    "https://www.guru99.com/if-loop-python-conditional-structures.html\n",
    "https://www.w3schools.com/python/python_conditions.asp"
   ]
  },
  {
   "cell_type": "markdown",
   "id": "2f322999",
   "metadata": {},
   "source": [
    "## if statements\n",
    "==> used to control the execution of\n",
    "  set of lines (or)\n",
    "  block of code (or) \n",
    "  a single line \n",
    "==> it blocks if statement is true it will allow that block \n",
    "===> it must be either True or False only\n",
    "===> simple if statement\n",
    "if expression:\n",
    "   statement1\n",
    "   statement2\n",
    "expressions can be of ?\n",
    "1. comparision operators\n",
    "2. logical operators\n",
    "3. identity operators\n",
    "4. membership operators \n",
    "5. assignment operators (==)\n",
    "because the above 4 returns either True or False"
   ]
  },
  {
   "cell_type": "code",
   "execution_count": 12,
   "id": "6c8abc13",
   "metadata": {},
   "outputs": [
    {
     "name": "stdout",
     "output_type": "stream",
     "text": [
      "enter any number from 0 to 9 only :4\n",
      "it is even\n"
     ]
    }
   ],
   "source": [
    "# using an membershiip operators\n",
    "even_list=[0,2,4,6,8]\n",
    "list=eval(input(\"enter any number from 0 to 9 only :\"))\n",
    "if list in even_list:\n",
    "    print(\"it is even\")"
   ]
  },
  {
   "cell_type": "markdown",
   "id": "e0a1cac3",
   "metadata": {},
   "source": [
    "## if else statement\n",
    "==> syntax\n",
    "if expression:\n",
    "   statement1\n",
    "else:\n",
    "   statement2"
   ]
  },
  {
   "cell_type": "code",
   "execution_count": 18,
   "id": "81b94fbc",
   "metadata": {},
   "outputs": [
    {
     "name": "stdout",
     "output_type": "stream",
     "text": [
      "enter a string:\n",
      "python scripting \n",
      "do you want to convert this into title case yes or no: \n",
      "no\n",
      "python scripting \n"
     ]
    }
   ],
   "source": [
    "str=input(\"enter a string:\\n\")\n",
    "title_case=str.title()\n",
    "user_conf=input(\"do you want to convert this into title case yes or no: \\n\")\n",
    "if user_conf=='yes':\n",
    "    print(title_case)\n",
    "if user_conf=='no':\n",
    "    print(str)\n",
    "\n"
   ]
  },
  {
   "cell_type": "raw",
   "id": "b1b3170b",
   "metadata": {},
   "source": [
    "here we can use else instead of if condition again also\n",
    "1. if condition is true execute if statement\n",
    "2. if condition is false execute else statement\n",
    "3. why we use else ?\n",
    "   if if statement is used instead of else it executes \n",
    "   problem ? python checks the condition its true or not\n",
    "             processor uses to check so execution time increases \n",
    "   else ==> pthon blindly prints the statement it wont check"
   ]
  },
  {
   "cell_type": "code",
   "execution_count": 19,
   "id": "fe158037",
   "metadata": {},
   "outputs": [
    {
     "name": "stdout",
     "output_type": "stream",
     "text": [
      "enter a string:\n",
      "strings in python is easy\n",
      "do you want to convert this into title case yes or no: \n",
      "yes\n",
      "Strings In Python Is Easy\n"
     ]
    }
   ],
   "source": [
    "str=input(\"enter a string:\\n\")\n",
    "title_case=str.title()\n",
    "user_conf=input(\"do you want to convert this into title case yes or no: \\n\")\n",
    "if user_conf=='yes':\n",
    "    print(title_case)\n",
    "else:\n",
    "    print(str)"
   ]
  },
  {
   "cell_type": "code",
   "execution_count": 20,
   "id": "60f40140",
   "metadata": {},
   "outputs": [
    {
     "name": "stdout",
     "output_type": "stream",
     "text": [
      "enter a number:\n",
      "3\n",
      "enter a number:\n",
      "4\n",
      "4 is bigger than 3\n"
     ]
    }
   ],
   "source": [
    "a=eval(input(\"enter a number:\\n\"))\n",
    "b=eval(input(\"enter a number:\\n\"))\n",
    "if a > b:\n",
    "    print(f\"{a} is bigger than {b}\")\n",
    "else:\n",
    "    print(f\"{b} is bigger than {a}\")"
   ]
  },
  {
   "cell_type": "raw",
   "id": "b2b4d8c9",
   "metadata": {},
   "source": [
    "the problem with above code is it has three possibilities \n",
    "either > or < or ="
   ]
  },
  {
   "cell_type": "code",
   "execution_count": 21,
   "id": "42bebe0b",
   "metadata": {},
   "outputs": [
    {
     "name": "stdout",
     "output_type": "stream",
     "text": [
      "enter a number:\n",
      "2\n",
      "enter a number:\n",
      "2\n",
      "2 is bigger than 2\n"
     ]
    }
   ],
   "source": [
    "a=eval(input(\"enter a number:\\n\"))\n",
    "b=eval(input(\"enter a number:\\n\"))\n",
    "if a > b:\n",
    "    print(f\"{a} is bigger than {b}\")\n",
    "else:\n",
    "    print(f\"{b} is bigger than {a}\")"
   ]
  },
  {
   "cell_type": "raw",
   "id": "d1981f0a",
   "metadata": {},
   "source": [
    "the above output is False?\n",
    "the first if statement ==> 2 > 2 is False so its executing else statement                                  without checking \n"
   ]
  },
  {
   "cell_type": "code",
   "execution_count": 22,
   "id": "903416f2",
   "metadata": {},
   "outputs": [
    {
     "name": "stdout",
     "output_type": "stream",
     "text": [
      "enter a number:\n",
      "2\n",
      "enter a number:\n",
      "2\n"
     ]
    }
   ],
   "source": [
    "a=eval(input(\"enter a number:\\n\"))\n",
    "b=eval(input(\"enter a number:\\n\"))\n",
    "if a > b:\n",
    "    print(f\"{a} is bigger than {b}\")\n",
    "if b > a:\n",
    "    print(f\"{b} is bigger than {a}\")\n",
    "# we wont get any output"
   ]
  },
  {
   "cell_type": "markdown",
   "id": "a04ee099",
   "metadata": {},
   "source": [
    "## elif "
   ]
  },
  {
   "cell_type": "raw",
   "id": "43103ac3",
   "metadata": {},
   "source": [
    "elif is nothing but one more condition we will give instead of if statement\n",
    "---------\n",
    "syntax\n",
    "-------------\n",
    "if expression:\n",
    "   statement1\n",
    "elif expression:\n",
    "   statement2\n",
    "elif expression:\n",
    "   statement3\n",
    "else:\n",
    "  statement 4\n",
    "--------------\n",
    "note: elif ==> expression or condition is must\n",
    "      else ==> no need of any statement"
   ]
  },
  {
   "cell_type": "code",
   "execution_count": 25,
   "id": "efe8b748",
   "metadata": {
    "code_folding": []
   },
   "outputs": [
    {
     "name": "stdout",
     "output_type": "stream",
     "text": [
      "enter a number:\n",
      "2\n",
      "enter a number:\n",
      "2\n",
      "2 is equal to 2\n"
     ]
    }
   ],
   "source": [
    "a=eval(input(\"enter a number:\\n\"))\n",
    "b=eval(input(\"enter a number:\\n\"))\n",
    "if a > b:\n",
    "    print(f\"{a} is bigger than {b}\")\n",
    "elif b > a:\n",
    "    print(f\"{b} is bigger than {a}\")\n",
    "else:\n",
    "    print(f\"{a} is equal to {b}\")"
   ]
  },
  {
   "cell_type": "code",
   "execution_count": null,
   "id": "8089b8e7",
   "metadata": {},
   "outputs": [],
   "source": [
    "## a=eval(input(\"enter a number:\\n\"))\n",
    "b=eval(input(\"enter a number:\\n\"))\n",
    "if a > b:\n",
    "    print(f\"{a} is bigger than {b}\")\n",
    "elif b > a:\n",
    "    print(f\"{b} is bigger than {a}\")\n",
    "elif a == b:\n",
    "    print(f\"{a} is equal to {b}\")\n"
   ]
  },
  {
   "cell_type": "markdown",
   "id": "769f5393",
   "metadata": {},
   "source": [
    "## nested if\n",
    "You can have if statements inside if statements, this is called nested if statements."
   ]
  },
  {
   "cell_type": "code",
   "execution_count": 34,
   "id": "b45d9fd6",
   "metadata": {},
   "outputs": [
    {
     "name": "stdout",
     "output_type": "stream",
     "text": [
      "enter a number in between '0' to '30': \n",
      "2\n",
      "the number is less than '10'\n"
     ]
    }
   ],
   "source": [
    "x=eval(input(\"enter a number in between '0' to '30': \\n\"))\n",
    "if x > 10:\n",
    "    print(\"Above 10\")\n",
    "    if x > 20:\n",
    "        print(\"and also above 20\")\n",
    "        if x > 30:\n",
    "            print(\"and also above 30\")\n",
    "else:\n",
    "    print(\"the number is less than '10'\")"
   ]
  },
  {
   "cell_type": "raw",
   "id": "49165489",
   "metadata": {},
   "source": [
    "enter your lucky number to know your character \n",
    "'''\n",
    "1 ==> good\n",
    "2 ==> caring\n",
    "3 ===> bossy\n",
    "4 ==> sassy\n",
    "5 ==> humble\n",
    "6 ==> loyal\n",
    "7 ==> miser\n",
    "8 ==> wise\n",
    "9 ==> intelligent\n",
    "0 ==> cunning\n",
    "'''\n",
    "we can use multiple ways but we will use dict in this"
   ]
  },
  {
   "cell_type": "code",
   "execution_count": 39,
   "id": "c60c7978",
   "metadata": {},
   "outputs": [
    {
     "name": "stdout",
     "output_type": "stream",
     "text": [
      "enter a lucky number between 0 to 9: \n",
      "6\n",
      "loyal\n"
     ]
    }
   ],
   "source": [
    "char={1:'good',2:\"caring\",3:\"bossy\",4:\"sassy\",\n",
    "      5:\"humble\",6:\"loyal\",7:\"miser\",8:\"wise\",9:\"intelligent\",0:\"cunning\"}\n",
    "lucky_number=eval(input(\"enter a lucky number between 0 to 9: \\n\"))\n",
    "list=[1,2,3,4,5,6,7,8,9,0]\n",
    "if lucky_number in list:\n",
    "    print(char.get(lucky_number))\n",
    "else:\n",
    "    print(\"enter a number between o to 9 only\")"
   ]
  },
  {
   "cell_type": "code",
   "execution_count": null,
   "id": "7b0f6cd2",
   "metadata": {},
   "outputs": [],
   "source": []
  }
 ],
 "metadata": {
  "kernelspec": {
   "display_name": "Python 3",
   "language": "python",
   "name": "python3"
  },
  "language_info": {
   "codemirror_mode": {
    "name": "ipython",
    "version": 3
   },
   "file_extension": ".py",
   "mimetype": "text/x-python",
   "name": "python",
   "nbconvert_exporter": "python",
   "pygments_lexer": "ipython3",
   "version": "3.9.5"
  },
  "toc": {
   "base_numbering": 1,
   "nav_menu": {},
   "number_sections": true,
   "sideBar": true,
   "skip_h1_title": false,
   "title_cell": "Table of Contents",
   "title_sidebar": "Contents",
   "toc_cell": false,
   "toc_position": {},
   "toc_section_display": true,
   "toc_window_display": false
  }
 },
 "nbformat": 4,
 "nbformat_minor": 5
}
