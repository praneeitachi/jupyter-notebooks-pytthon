{
 "cells": [
  {
   "cell_type": "markdown",
   "id": "bdbb4dfa",
   "metadata": {},
   "source": [
    "# Strings\n",
    "---------------------------------------\n",
    "1. A string is a sequence of characters i,e symbols\n",
    "2. computer can only read binary numbers (0,1), the characters are stored as a binary numbers \n",
    "3. conversion of a character into number is called encoding and reverse is caled decoding\n",
    "   ex: ASCI, unicode ---> encoding"
   ]
  },
  {
   "cell_type": "markdown",
   "id": "315dfb95",
   "metadata": {},
   "source": [
    "## Create a String  \n",
    "to create a string we have to use either of the four quotes \n",
    "' or \" or ''' or \"\"\""
   ]
  },
  {
   "cell_type": "code",
   "execution_count": 7,
   "id": "76ce9c5c",
   "metadata": {
    "scrolled": true
   },
   "outputs": [
    {
     "name": "stdout",
     "output_type": "stream",
     "text": [
      "my name is praneeth and python developer working in hcl\n",
      "my name is praneeth and \n",
      "python developer \n",
      "working in hcl\n",
      "i am wotking in a hcl company \n",
      "             my designation is python developer\n",
      "             previously worked on DevOps\n",
      "        \n"
     ]
    }
   ],
   "source": [
    "my_name=\"praneeth\"\n",
    "my_designation=\"python developer\"\n",
    "my_company=\"hcl\"\n",
    "print(f\"my name is {my_name} and {my_designation} working in {my_company}\")\n",
    "print(f\"my name is {my_name} and \\n{my_designation} \\nworking in {my_company}\")\n",
    "my_info='''i am wotking in a hcl company \n",
    "             my designation is python developer\n",
    "             previously worked on DevOps\n",
    "        '''\n",
    "# triple quots we can print as it is using them\n",
    "print(my_info)"
   ]
  },
  {
   "cell_type": "code",
   "execution_count": 5,
   "id": "cc66aafa",
   "metadata": {},
   "outputs": [
    {
     "name": "stdout",
     "output_type": "stream",
     "text": [
      "False and True values \n"
     ]
    }
   ],
   "source": [
    "my_name=\"\"\n",
    "my_name1=\" \"\n",
    "print(f\"{bool(my_name)} and {bool(my_name1)} values \")"
   ]
  },
  {
   "cell_type": "markdown",
   "id": "784170ce",
   "metadata": {},
   "source": [
    "note: in python space is also considered as a value (indentation)"
   ]
  },
  {
   "cell_type": "markdown",
   "id": "93fffc91",
   "metadata": {},
   "source": [
    "how to access characters in a string (Slicing)\n",
    "--------------------------------------------------------------\n",
    "how to access characters from a string?\n",
    "for that we meed two things ?\n",
    "1. length of a string ====> len(var_name)\n",
    "2. index (+ve and -ve ) either from start or from end \n",
    "3. +ve index starts from 0 to (l-1) if length of a string is 'l'\n",
    "   -ve index starts from (-1 to -l i,e fro, last to first)\n",
    "4. we can give either an index number if you want to print a single character (or) if you want inbetween chars we can use range  [0:4] like that \n"
   ]
  },
  {
   "cell_type": "code",
   "execution_count": 6,
   "id": "9aa82293",
   "metadata": {},
   "outputs": [
    {
     "name": "stdout",
     "output_type": "stream",
     "text": [
      "python scripting\n"
     ]
    }
   ],
   "source": [
    "my_lang=\"python scripting\"\n",
    "print(my_lang)"
   ]
  },
  {
   "cell_type": "markdown",
   "id": "64fad5c0",
   "metadata": {},
   "source": [
    "length of a string \n",
    "------------------------------------\n",
    "length of a string is len(var_name)"
   ]
  },
  {
   "cell_type": "code",
   "execution_count": 38,
   "id": "1d518178",
   "metadata": {},
   "outputs": [
    {
     "name": "stdout",
     "output_type": "stream",
     "text": [
      "16\n",
      "p\n",
      "g\n",
      "python scriptin\n",
      "python scripting\n"
     ]
    }
   ],
   "source": [
    "print(len(my_lang))\n",
    "# printing the length of a string\n",
    "print(my_lang[0])\n",
    "# printing a single character ==> +ve index 1st char \n",
    "print(my_lang[-1])\n",
    "# printing last char \n",
    "print(my_lang[0:-1]) \n",
    "# 0 --> 1 st char, -1-1=-2 last character we can give as space (range [0:-1])\n",
    "print(my_lang[0:])\n",
    "# to define full string , if we give 0:0 ===> 0:-1+0 ==> 0:-1\n",
    "# but dont use this the interpreter wont take value insstead of that give blank"
   ]
  },
  {
   "cell_type": "code",
   "execution_count": 41,
   "id": "5828e0cc",
   "metadata": {},
   "outputs": [
    {
     "name": "stdout",
     "output_type": "stream",
     "text": [
      "python scriptin\n",
      "python scriptin\n",
      "python scripting\n",
      "python scriptin\n",
      "python scripting\n",
      "python scripting\n",
      "python scripting\n"
     ]
    }
   ],
   "source": [
    "print(my_lang[0:15]) # 0--->(15-1)----> 0:14\n",
    "print(my_lang[0:-1]) # 0 ---> -1(last char i,e 15 ) so its 0-->14 +ve index\n",
    "#you can use len(var) also \n",
    "print(my_lang[0:len(my_lang)]) # 0 ---> 15 (16-1)\n",
    "print(my_lang[0:len(my_lang)-1]) # 0 ---> (16-1)---> (15-1)--->14\n",
    "print(my_lang[0:])\n",
    "print(my_lang[:])\n",
    "print(my_lang[:16])"
   ]
  },
  {
   "cell_type": "code",
   "execution_count": 50,
   "id": "2ce72f56",
   "metadata": {},
   "outputs": [
    {
     "name": "stdout",
     "output_type": "stream",
     "text": [
      "python script\n"
     ]
    }
   ],
   "source": [
    "#we can store the sliced strings into a variable also\n",
    "my_new_lang=my_lang[0:13]\n",
    "print(my_new_lang)"
   ]
  },
  {
   "cell_type": "markdown",
   "id": "ab4d4796",
   "metadata": {},
   "source": [
    "Deleting or modifying a string\n",
    "----------------------------------------------\n",
    "we cant modify a string if its assigned\n",
    "they are immutable "
   ]
  },
  {
   "cell_type": "raw",
   "id": "029e548f",
   "metadata": {},
   "source": [
    "==> you can delete an entire string but not a character in a string\n",
    "1. del my_new_lang[1]\n",
    "'''\n",
    "TypeError                                 Traceback (most recent call last)\n",
    "<ipython-input-43-cc4effd1e9b9> in <module>\n",
    "      1 # you can delete an entire string but not a character in a string\n",
    "----> 2 del my_new_lang[1]\n",
    "'''\n",
    "2. del my_new_lang (entire string can delete)\n",
    "#you can do above string operation \n",
    "---> print(my_new_lang)\n",
    "'''\n",
    "NameError                                 Traceback (most recent call last)\n",
    "<ipython-input-45-422fab5349da> in <module>\n",
    "      9 \n",
    "     10 \n",
    "---> 11 del my_new_lang\n",
    "     12 print(my_new_lang)\n",
    "NameError: name 'my_new_lang' is not defined\n",
    "'''"
   ]
  },
  {
   "cell_type": "markdown",
   "id": "dde23e21",
   "metadata": {},
   "source": [
    "concatenate strings\n",
    "-----------------------------\n",
    "we can perform two types of operations to a string\n",
    "1. addition\n",
    "2. multiplication"
   ]
  },
  {
   "cell_type": "code",
   "execution_count": 57,
   "id": "25b65d5e",
   "metadata": {},
   "outputs": [
    {
     "name": "stdout",
     "output_type": "stream",
     "text": [
      "praneeth123123\n",
      "praneeth 123123\n",
      "praneeth's employee id is 123123\n"
     ]
    }
   ],
   "source": [
    "# string addition\n",
    "name=\"praneeth\"\n",
    "id=\"123123\"\n",
    "name_id=name+id\n",
    "print(name_id)\n",
    "print(name+\" \"+id)\n",
    "print(name+\"'s\"+\" employee id is \"+id)\n",
    "# you can add variables or non variables anything "
   ]
  },
  {
   "cell_type": "code",
   "execution_count": 59,
   "id": "037c97a0",
   "metadata": {},
   "outputs": [
    {
     "name": "stdout",
     "output_type": "stream",
     "text": [
      "praneethpraneethpraneeth\n",
      "praneethpraneethpraneethpraneeth123123praneeth123123praneeth123123\n"
     ]
    }
   ],
   "source": [
    "#string multiplication \n",
    "name=\"praneeth\"\n",
    "print(3*name)\n",
    "print(3*name+3*name_id)"
   ]
  },
  {
   "cell_type": "markdown",
   "id": "0da703a4",
   "metadata": {},
   "source": [
    "# Case Conversion in strings\n",
    "-------------------------------------------------------------------------\n",
    "1. strings are immutable we cant change them ?\n",
    "2. we will use functions like lower() or upper() to convert the string but the \n",
    "original string wont modify, we will asign it to another variable"
   ]
  },
  {
   "cell_type": "code",
   "execution_count": 70,
   "id": "d3ad29e8",
   "metadata": {},
   "outputs": [
    {
     "name": "stdout",
     "output_type": "stream",
     "text": [
      "python programming \n",
      "python programming \n",
      "PYTHON PROGRAMMING\n",
      "PYTHON PROGRAMMING \n",
      "python programming \n",
      "python programming\n"
     ]
    }
   ],
   "source": [
    "string=\"python programming\"\n",
    "string_upper=string.upper()\n",
    "string_lower=string.lower()\n",
    "print(f\"{string} \\n{string_lower} \\n{string_upper}\")\n",
    "print(\"{} \\n{} \\n{}\".format(string_upper,string,string_lower))"
   ]
  },
  {
   "cell_type": "code",
   "execution_count": 71,
   "id": "c7a83758",
   "metadata": {},
   "outputs": [
    {
     "name": "stdout",
     "output_type": "stream",
     "text": [
      "['__add__', '__class__', '__contains__', '__delattr__', '__dir__', '__doc__', '__eq__', '__format__', '__ge__', '__getattribute__', '__getitem__', '__getnewargs__', '__gt__', '__hash__', '__init__', '__init_subclass__', '__iter__', '__le__', '__len__', '__lt__', '__mod__', '__mul__', '__ne__', '__new__', '__reduce__', '__reduce_ex__', '__repr__', '__rmod__', '__rmul__', '__setattr__', '__sizeof__', '__str__', '__subclasshook__', 'capitalize', 'casefold', 'center', 'count', 'encode', 'endswith', 'expandtabs', 'find', 'format', 'format_map', 'index', 'isalnum', 'isalpha', 'isascii', 'isdecimal', 'isdigit', 'isidentifier', 'islower', 'isnumeric', 'isprintable', 'isspace', 'istitle', 'isupper', 'join', 'ljust', 'lower', 'lstrip', 'maketrans', 'partition', 'removeprefix', 'removesuffix', 'replace', 'rfind', 'rindex', 'rjust', 'rpartition', 'rsplit', 'rstrip', 'split', 'splitlines', 'startswith', 'strip', 'swapcase', 'title', 'translate', 'upper', 'zfill']\n"
     ]
    }
   ],
   "source": [
    "# we cn find what are the operations you can perform on strings using dir\n",
    "string=\"python programming\"\n",
    "print(dir(string))"
   ]
  },
  {
   "cell_type": "code",
   "execution_count": 73,
   "id": "ef555e26",
   "metadata": {},
   "outputs": [
    {
     "name": "stdout",
     "output_type": "stream",
     "text": [
      "Python Programming pYTHON pROGRAMMING\n"
     ]
    }
   ],
   "source": [
    "string_title=string.title()\n",
    "string_swapcase=string_title.swapcase()\n",
    "print(string_title,string_swapcase)"
   ]
  },
  {
   "cell_type": "code",
   "execution_count": 88,
   "id": "a938eb2e",
   "metadata": {},
   "outputs": [
    {
     "name": "stdout",
     "output_type": "stream",
     "text": [
      "python programming \n",
      "python programming\n"
     ]
    }
   ],
   "source": [
    "string_casefold=string.casefold()\n",
    "string_casefold1=string.upper().casefold() #you can use multiple functions\n",
    "print(f\"{string_casefold} \\n{string_casefold1}\")\n",
    "\n",
    "#anything is converted into lower case irrespective of its case"
   ]
  },
  {
   "cell_type": "markdown",
   "id": "012034b3",
   "metadata": {},
   "source": [
    "# Bool Operations on Strings\n",
    "------------------------------------------------------------------\n",
    "1. bool operations are nothing but a simple True or False satatements, we use them mainly on conditional statements \n",
    "Ex: employee name starts with 'p' for query \n",
    "    employee character must not exceed 10 (or) password min is 8"
   ]
  },
  {
   "cell_type": "code",
   "execution_count": 96,
   "id": "15e71186",
   "metadata": {},
   "outputs": [
    {
     "name": "stdout",
     "output_type": "stream",
     "text": [
      "False\n",
      "True\n",
      "True\n",
      "False\n",
      "False\n",
      "Help on class str in module builtins:\n",
      "\n",
      "class str(object)\n",
      " |  str(object='') -> str\n",
      " |  str(bytes_or_buffer[, encoding[, errors]]) -> str\n",
      " |  \n",
      " |  Create a new string object from the given object. If encoding or\n",
      " |  errors is specified, then the object must expose a data buffer\n",
      " |  that will be decoded using the given encoding and error handler.\n",
      " |  Otherwise, returns the result of object.__str__() (if defined)\n",
      " |  or repr(object).\n",
      " |  encoding defaults to sys.getdefaultencoding().\n",
      " |  errors defaults to 'strict'.\n",
      " |  \n",
      " |  Methods defined here:\n",
      " |  \n",
      " |  __add__(self, value, /)\n",
      " |      Return self+value.\n",
      " |  \n",
      " |  __contains__(self, key, /)\n",
      " |      Return key in self.\n",
      " |  \n",
      " |  __eq__(self, value, /)\n",
      " |      Return self==value.\n",
      " |  \n",
      " |  __format__(self, format_spec, /)\n",
      " |      Return a formatted version of the string as described by format_spec.\n",
      " |  \n",
      " |  __ge__(self, value, /)\n",
      " |      Return self>=value.\n",
      " |  \n",
      " |  __getattribute__(self, name, /)\n",
      " |      Return getattr(self, name).\n",
      " |  \n",
      " |  __getitem__(self, key, /)\n",
      " |      Return self[key].\n",
      " |  \n",
      " |  __getnewargs__(...)\n",
      " |  \n",
      " |  __gt__(self, value, /)\n",
      " |      Return self>value.\n",
      " |  \n",
      " |  __hash__(self, /)\n",
      " |      Return hash(self).\n",
      " |  \n",
      " |  __iter__(self, /)\n",
      " |      Implement iter(self).\n",
      " |  \n",
      " |  __le__(self, value, /)\n",
      " |      Return self<=value.\n",
      " |  \n",
      " |  __len__(self, /)\n",
      " |      Return len(self).\n",
      " |  \n",
      " |  __lt__(self, value, /)\n",
      " |      Return self<value.\n",
      " |  \n",
      " |  __mod__(self, value, /)\n",
      " |      Return self%value.\n",
      " |  \n",
      " |  __mul__(self, value, /)\n",
      " |      Return self*value.\n",
      " |  \n",
      " |  __ne__(self, value, /)\n",
      " |      Return self!=value.\n",
      " |  \n",
      " |  __repr__(self, /)\n",
      " |      Return repr(self).\n",
      " |  \n",
      " |  __rmod__(self, value, /)\n",
      " |      Return value%self.\n",
      " |  \n",
      " |  __rmul__(self, value, /)\n",
      " |      Return value*self.\n",
      " |  \n",
      " |  __sizeof__(self, /)\n",
      " |      Return the size of the string in memory, in bytes.\n",
      " |  \n",
      " |  __str__(self, /)\n",
      " |      Return str(self).\n",
      " |  \n",
      " |  capitalize(self, /)\n",
      " |      Return a capitalized version of the string.\n",
      " |      \n",
      " |      More specifically, make the first character have upper case and the rest lower\n",
      " |      case.\n",
      " |  \n",
      " |  casefold(self, /)\n",
      " |      Return a version of the string suitable for caseless comparisons.\n",
      " |  \n",
      " |  center(self, width, fillchar=' ', /)\n",
      " |      Return a centered string of length width.\n",
      " |      \n",
      " |      Padding is done using the specified fill character (default is a space).\n",
      " |  \n",
      " |  count(...)\n",
      " |      S.count(sub[, start[, end]]) -> int\n",
      " |      \n",
      " |      Return the number of non-overlapping occurrences of substring sub in\n",
      " |      string S[start:end].  Optional arguments start and end are\n",
      " |      interpreted as in slice notation.\n",
      " |  \n",
      " |  encode(self, /, encoding='utf-8', errors='strict')\n",
      " |      Encode the string using the codec registered for encoding.\n",
      " |      \n",
      " |      encoding\n",
      " |        The encoding in which to encode the string.\n",
      " |      errors\n",
      " |        The error handling scheme to use for encoding errors.\n",
      " |        The default is 'strict' meaning that encoding errors raise a\n",
      " |        UnicodeEncodeError.  Other possible values are 'ignore', 'replace' and\n",
      " |        'xmlcharrefreplace' as well as any other name registered with\n",
      " |        codecs.register_error that can handle UnicodeEncodeErrors.\n",
      " |  \n",
      " |  endswith(...)\n",
      " |      S.endswith(suffix[, start[, end]]) -> bool\n",
      " |      \n",
      " |      Return True if S ends with the specified suffix, False otherwise.\n",
      " |      With optional start, test S beginning at that position.\n",
      " |      With optional end, stop comparing S at that position.\n",
      " |      suffix can also be a tuple of strings to try.\n",
      " |  \n",
      " |  expandtabs(self, /, tabsize=8)\n",
      " |      Return a copy where all tab characters are expanded using spaces.\n",
      " |      \n",
      " |      If tabsize is not given, a tab size of 8 characters is assumed.\n",
      " |  \n",
      " |  find(...)\n",
      " |      S.find(sub[, start[, end]]) -> int\n",
      " |      \n",
      " |      Return the lowest index in S where substring sub is found,\n",
      " |      such that sub is contained within S[start:end].  Optional\n",
      " |      arguments start and end are interpreted as in slice notation.\n",
      " |      \n",
      " |      Return -1 on failure.\n",
      " |  \n",
      " |  format(...)\n",
      " |      S.format(*args, **kwargs) -> str\n",
      " |      \n",
      " |      Return a formatted version of S, using substitutions from args and kwargs.\n",
      " |      The substitutions are identified by braces ('{' and '}').\n",
      " |  \n",
      " |  format_map(...)\n",
      " |      S.format_map(mapping) -> str\n",
      " |      \n",
      " |      Return a formatted version of S, using substitutions from mapping.\n",
      " |      The substitutions are identified by braces ('{' and '}').\n",
      " |  \n",
      " |  index(...)\n",
      " |      S.index(sub[, start[, end]]) -> int\n",
      " |      \n",
      " |      Return the lowest index in S where substring sub is found,\n",
      " |      such that sub is contained within S[start:end].  Optional\n",
      " |      arguments start and end are interpreted as in slice notation.\n",
      " |      \n",
      " |      Raises ValueError when the substring is not found.\n",
      " |  \n",
      " |  isalnum(self, /)\n",
      " |      Return True if the string is an alpha-numeric string, False otherwise.\n",
      " |      \n",
      " |      A string is alpha-numeric if all characters in the string are alpha-numeric and\n",
      " |      there is at least one character in the string.\n",
      " |  \n",
      " |  isalpha(self, /)\n",
      " |      Return True if the string is an alphabetic string, False otherwise.\n",
      " |      \n",
      " |      A string is alphabetic if all characters in the string are alphabetic and there\n",
      " |      is at least one character in the string.\n",
      " |  \n",
      " |  isascii(self, /)\n",
      " |      Return True if all characters in the string are ASCII, False otherwise.\n",
      " |      \n",
      " |      ASCII characters have code points in the range U+0000-U+007F.\n",
      " |      Empty string is ASCII too.\n",
      " |  \n",
      " |  isdecimal(self, /)\n",
      " |      Return True if the string is a decimal string, False otherwise.\n",
      " |      \n",
      " |      A string is a decimal string if all characters in the string are decimal and\n",
      " |      there is at least one character in the string.\n",
      " |  \n",
      " |  isdigit(self, /)\n",
      " |      Return True if the string is a digit string, False otherwise.\n",
      " |      \n",
      " |      A string is a digit string if all characters in the string are digits and there\n",
      " |      is at least one character in the string.\n",
      " |  \n",
      " |  isidentifier(self, /)\n",
      " |      Return True if the string is a valid Python identifier, False otherwise.\n",
      " |      \n",
      " |      Call keyword.iskeyword(s) to test whether string s is a reserved identifier,\n",
      " |      such as \"def\" or \"class\".\n",
      " |  \n",
      " |  islower(self, /)\n",
      " |      Return True if the string is a lowercase string, False otherwise.\n",
      " |      \n",
      " |      A string is lowercase if all cased characters in the string are lowercase and\n",
      " |      there is at least one cased character in the string.\n",
      " |  \n",
      " |  isnumeric(self, /)\n",
      " |      Return True if the string is a numeric string, False otherwise.\n",
      " |      \n",
      " |      A string is numeric if all characters in the string are numeric and there is at\n",
      " |      least one character in the string.\n",
      " |  \n",
      " |  isprintable(self, /)\n",
      " |      Return True if the string is printable, False otherwise.\n",
      " |      \n",
      " |      A string is printable if all of its characters are considered printable in\n",
      " |      repr() or if it is empty.\n",
      " |  \n",
      " |  isspace(self, /)\n",
      " |      Return True if the string is a whitespace string, False otherwise.\n",
      " |      \n",
      " |      A string is whitespace if all characters in the string are whitespace and there\n",
      " |      is at least one character in the string.\n",
      " |  \n",
      " |  istitle(self, /)\n",
      " |      Return True if the string is a title-cased string, False otherwise.\n",
      " |      \n",
      " |      In a title-cased string, upper- and title-case characters may only\n",
      " |      follow uncased characters and lowercase characters only cased ones.\n",
      " |  \n",
      " |  isupper(self, /)\n",
      " |      Return True if the string is an uppercase string, False otherwise.\n",
      " |      \n",
      " |      A string is uppercase if all cased characters in the string are uppercase and\n",
      " |      there is at least one cased character in the string.\n",
      " |  \n",
      " |  join(self, iterable, /)\n",
      " |      Concatenate any number of strings.\n",
      " |      \n",
      " |      The string whose method is called is inserted in between each given string.\n",
      " |      The result is returned as a new string.\n",
      " |      \n",
      " |      Example: '.'.join(['ab', 'pq', 'rs']) -> 'ab.pq.rs'\n",
      " |  \n",
      " |  ljust(self, width, fillchar=' ', /)\n",
      " |      Return a left-justified string of length width.\n",
      " |      \n",
      " |      Padding is done using the specified fill character (default is a space).\n",
      " |  \n",
      " |  lower(self, /)\n",
      " |      Return a copy of the string converted to lowercase.\n",
      " |  \n",
      " |  lstrip(self, chars=None, /)\n",
      " |      Return a copy of the string with leading whitespace removed.\n",
      " |      \n",
      " |      If chars is given and not None, remove characters in chars instead.\n",
      " |  \n",
      " |  partition(self, sep, /)\n",
      " |      Partition the string into three parts using the given separator.\n",
      " |      \n",
      " |      This will search for the separator in the string.  If the separator is found,\n",
      " |      returns a 3-tuple containing the part before the separator, the separator\n",
      " |      itself, and the part after it.\n",
      " |      \n",
      " |      If the separator is not found, returns a 3-tuple containing the original string\n",
      " |      and two empty strings.\n",
      " |  \n",
      " |  removeprefix(self, prefix, /)\n",
      " |      Return a str with the given prefix string removed if present.\n",
      " |      \n",
      " |      If the string starts with the prefix string, return string[len(prefix):].\n",
      " |      Otherwise, return a copy of the original string.\n",
      " |  \n",
      " |  removesuffix(self, suffix, /)\n",
      " |      Return a str with the given suffix string removed if present.\n",
      " |      \n",
      " |      If the string ends with the suffix string and that suffix is not empty,\n",
      " |      return string[:-len(suffix)]. Otherwise, return a copy of the original\n",
      " |      string.\n",
      " |  \n",
      " |  replace(self, old, new, count=-1, /)\n",
      " |      Return a copy with all occurrences of substring old replaced by new.\n",
      " |      \n",
      " |        count\n",
      " |          Maximum number of occurrences to replace.\n",
      " |          -1 (the default value) means replace all occurrences.\n",
      " |      \n",
      " |      If the optional argument count is given, only the first count occurrences are\n",
      " |      replaced.\n",
      " |  \n",
      " |  rfind(...)\n",
      " |      S.rfind(sub[, start[, end]]) -> int\n",
      " |      \n",
      " |      Return the highest index in S where substring sub is found,\n",
      " |      such that sub is contained within S[start:end].  Optional\n",
      " |      arguments start and end are interpreted as in slice notation.\n",
      " |      \n",
      " |      Return -1 on failure.\n",
      " |  \n",
      " |  rindex(...)\n",
      " |      S.rindex(sub[, start[, end]]) -> int\n",
      " |      \n",
      " |      Return the highest index in S where substring sub is found,\n",
      " |      such that sub is contained within S[start:end].  Optional\n",
      " |      arguments start and end are interpreted as in slice notation.\n",
      " |      \n",
      " |      Raises ValueError when the substring is not found.\n",
      " |  \n",
      " |  rjust(self, width, fillchar=' ', /)\n",
      " |      Return a right-justified string of length width.\n",
      " |      \n",
      " |      Padding is done using the specified fill character (default is a space).\n",
      " |  \n",
      " |  rpartition(self, sep, /)\n",
      " |      Partition the string into three parts using the given separator.\n",
      " |      \n",
      " |      This will search for the separator in the string, starting at the end. If\n",
      " |      the separator is found, returns a 3-tuple containing the part before the\n",
      " |      separator, the separator itself, and the part after it.\n",
      " |      \n",
      " |      If the separator is not found, returns a 3-tuple containing two empty strings\n",
      " |      and the original string.\n",
      " |  \n",
      " |  rsplit(self, /, sep=None, maxsplit=-1)\n",
      " |      Return a list of the words in the string, using sep as the delimiter string.\n",
      " |      \n",
      " |        sep\n",
      " |          The delimiter according which to split the string.\n",
      " |          None (the default value) means split according to any whitespace,\n",
      " |          and discard empty strings from the result.\n",
      " |        maxsplit\n",
      " |          Maximum number of splits to do.\n",
      " |          -1 (the default value) means no limit.\n",
      " |      \n",
      " |      Splits are done starting at the end of the string and working to the front.\n",
      " |  \n",
      " |  rstrip(self, chars=None, /)\n",
      " |      Return a copy of the string with trailing whitespace removed.\n",
      " |      \n",
      " |      If chars is given and not None, remove characters in chars instead.\n",
      " |  \n",
      " |  split(self, /, sep=None, maxsplit=-1)\n",
      " |      Return a list of the words in the string, using sep as the delimiter string.\n",
      " |      \n",
      " |      sep\n",
      " |        The delimiter according which to split the string.\n",
      " |        None (the default value) means split according to any whitespace,\n",
      " |        and discard empty strings from the result.\n",
      " |      maxsplit\n",
      " |        Maximum number of splits to do.\n",
      " |        -1 (the default value) means no limit.\n",
      " |  \n",
      " |  splitlines(self, /, keepends=False)\n",
      " |      Return a list of the lines in the string, breaking at line boundaries.\n",
      " |      \n",
      " |      Line breaks are not included in the resulting list unless keepends is given and\n",
      " |      true.\n",
      " |  \n",
      " |  startswith(...)\n",
      " |      S.startswith(prefix[, start[, end]]) -> bool\n",
      " |      \n",
      " |      Return True if S starts with the specified prefix, False otherwise.\n",
      " |      With optional start, test S beginning at that position.\n",
      " |      With optional end, stop comparing S at that position.\n",
      " |      prefix can also be a tuple of strings to try.\n",
      " |  \n",
      " |  strip(self, chars=None, /)\n",
      " |      Return a copy of the string with leading and trailing whitespace removed.\n",
      " |      \n",
      " |      If chars is given and not None, remove characters in chars instead.\n",
      " |  \n",
      " |  swapcase(self, /)\n",
      " |      Convert uppercase characters to lowercase and lowercase characters to uppercase.\n",
      " |  \n",
      " |  title(self, /)\n",
      " |      Return a version of the string where each word is titlecased.\n",
      " |      \n",
      " |      More specifically, words start with uppercased characters and all remaining\n",
      " |      cased characters have lower case.\n",
      " |  \n",
      " |  translate(self, table, /)\n",
      " |      Replace each character in the string using the given translation table.\n",
      " |      \n",
      " |        table\n",
      " |          Translation table, which must be a mapping of Unicode ordinals to\n",
      " |          Unicode ordinals, strings, or None.\n",
      " |      \n",
      " |      The table must implement lookup/indexing via __getitem__, for instance a\n",
      " |      dictionary or list.  If this operation raises LookupError, the character is\n",
      " |      left untouched.  Characters mapped to None are deleted.\n",
      " |  \n",
      " |  upper(self, /)\n",
      " |      Return a copy of the string converted to uppercase.\n",
      " |  \n",
      " |  zfill(self, width, /)\n",
      " |      Pad a numeric string with zeros on the left, to fill a field of the given width.\n",
      " |      \n",
      " |      The string is never truncated.\n",
      " |  \n",
      " |  ----------------------------------------------------------------------\n",
      " |  Static methods defined here:\n",
      " |  \n",
      " |  __new__(*args, **kwargs) from builtins.type\n",
      " |      Create and return a new object.  See help(type) for accurate signature.\n",
      " |  \n",
      " |  maketrans(...)\n",
      " |      Return a translation table usable for str.translate().\n",
      " |      \n",
      " |      If there is only one argument, it must be a dictionary mapping Unicode\n",
      " |      ordinals (integers) or characters to Unicode ordinals, strings or None.\n",
      " |      Character keys will be then converted to ordinals.\n",
      " |      If there are two arguments, they must be strings of equal length, and\n",
      " |      in the resulting dictionary, each character in x will be mapped to the\n",
      " |      character at the same position in y. If there is a third argument, it\n",
      " |      must be a string, whose characters will be mapped to None in the result.\n",
      "\n"
     ]
    }
   ],
   "source": [
    "my_str=\"Python Tutorials\"\n",
    "print(my_str.startswith('p'))\n",
    "print(my_str.startswith('Pyt'))\n",
    "print(my_str.endswith('als'))\n",
    "print(my_str.islower())\n",
    "print(my_str.isnumeric())\n",
    "help(str)"
   ]
  },
  {
   "cell_type": "markdown",
   "id": "14c2f61f",
   "metadata": {},
   "source": [
    "# join,center and zfill operations\n",
    "--------------------------------------------------------------------\n"
   ]
  },
  {
   "cell_type": "markdown",
   "id": "efd0d053",
   "metadata": {},
   "source": [
    "Join-----"
   ]
  },
  {
   "cell_type": "code",
   "execution_count": 9,
   "id": "7c4c1a2c",
   "metadata": {},
   "outputs": [
    {
     "name": "stdout",
     "output_type": "stream",
     "text": [
      "p-y-t-h-o-n\n"
     ]
    }
   ],
   "source": [
    "x=\"python\"\n",
    "print(\"-\".join(x))"
   ]
  },
  {
   "cell_type": "code",
   "execution_count": 10,
   "id": "d2360ce9",
   "metadata": {},
   "outputs": [
    {
     "name": "stdout",
     "output_type": "stream",
     "text": [
      "p*y*t*h*o*n\n",
      "p y t h o n\n"
     ]
    }
   ],
   "source": [
    "print(\"*\".join(x))\n",
    "print(\" \".join(x))"
   ]
  },
  {
   "cell_type": "code",
   "execution_count": 11,
   "id": "9731e08f",
   "metadata": {},
   "outputs": [
    {
     "name": "stdout",
     "output_type": "stream",
     "text": [
      "p\n",
      "y\n",
      "t\n",
      "h\n",
      "o\n",
      "n\n"
     ]
    }
   ],
   "source": [
    "print(\"\\n\".join(x)) # its most important in rreal python "
   ]
  },
  {
   "cell_type": "markdown",
   "id": "80c45326",
   "metadata": {},
   "source": [
    " centre"
   ]
  },
  {
   "cell_type": "code",
   "execution_count": 16,
   "id": "bbaf84e1",
   "metadata": {},
   "outputs": [
    {
     "name": "stdout",
     "output_type": "stream",
     "text": [
      "                      python                      \n",
      "                      python                       \n",
      "                  python scripting                  \n",
      "                 python language                  \n"
     ]
    }
   ],
   "source": [
    "str1=\"python\"\n",
    "str2=\"python scripting\"\n",
    "str3=\"python language\"\n",
    "#length we have to define, over that length it will come to centre\n",
    "print(str1.center(50))\n",
    "print(f\"{str1.center(50)} \\n {str2.center(50)} \\n{str3.center(50)}\")"
   ]
  },
  {
   "cell_type": "markdown",
   "id": "f4d05aaa",
   "metadata": {},
   "source": [
    "Zfill ( used for padding i,e filling left side of it with zeroes)"
   ]
  },
  {
   "cell_type": "code",
   "execution_count": 17,
   "id": "0ab7cfc6",
   "metadata": {},
   "outputs": [
    {
     "name": "stdout",
     "output_type": "stream",
     "text": [
      "0000012345\n"
     ]
    }
   ],
   "source": [
    "number=\"12345\"\n",
    "print(number.zfill(10))  # given 10 characters "
   ]
  },
  {
   "cell_type": "markdown",
   "id": "37363ced",
   "metadata": {},
   "source": [
    "# Strip and Split Operations"
   ]
  },
  {
   "cell_type": "markdown",
   "id": "92c90673",
   "metadata": {},
   "source": [
    "Strip \n",
    "it is used to remove the characters from the srring"
   ]
  },
  {
   "cell_type": "code",
   "execution_count": 20,
   "id": "0bfa08b9",
   "metadata": {},
   "outputs": [
    {
     "name": "stdout",
     "output_type": "stream",
     "text": [
      " python\n",
      " python\n",
      "python\n"
     ]
    }
   ],
   "source": [
    "x=\" python\"\n",
    "print(x)\n",
    "print(x.strip()) # it is used to strip spaces any spaces in a given string"
   ]
  },
  {
   "cell_type": "code",
   "execution_count": 28,
   "id": "3b1a9bd2",
   "metadata": {},
   "outputs": [
    {
     "name": "stdout",
     "output_type": "stream",
     "text": [
      " python\n",
      " pytho\n",
      " python\n",
      " pyth\n"
     ]
    }
   ],
   "source": [
    "print(x.strip('p')) #it wont strip p? because it selects either first letter or last\n",
    "print(x.strip('n'))\n",
    "print(x.strip('py')) # first two or last 2 characters doesnt match with input\n",
    "print(x.strip('on'))"
   ]
  },
  {
   "cell_type": "code",
   "execution_count": 34,
   "id": "c283248c",
   "metadata": {},
   "outputs": [
    {
     "name": "stdout",
     "output_type": "stream",
     "text": [
      "python language is easy : learn python\n",
      " language is easy : learn \n",
      " language is easy : learn python\n",
      "python language is easy : learn \n"
     ]
    }
   ],
   "source": [
    "x=\"python language is easy : learn python\"\n",
    "print(x.strip()) # remove spaces either left or right \n",
    "print(x.strip('python')) # removes from both sides\n",
    "print(x.lstrip('python'))\n",
    "print(x.rstrip('python')) # right side it will remove  "
   ]
  },
  {
   "cell_type": "code",
   "execution_count": 35,
   "id": "394f6587",
   "metadata": {},
   "outputs": [
    {
     "name": "stdout",
     "output_type": "stream",
     "text": [
      "uage is easy : lear\n"
     ]
    }
   ],
   "source": [
    "print(x.strip('python').strip().strip('lang')) # you can perform any no of  times "
   ]
  },
  {
   "cell_type": "markdown",
   "id": "7fe4b980",
   "metadata": {},
   "source": [
    "Split ===> used to split the string if space is there"
   ]
  },
  {
   "cell_type": "code",
   "execution_count": 39,
   "id": "ef62fcc1",
   "metadata": {},
   "outputs": [
    {
     "name": "stdout",
     "output_type": "stream",
     "text": [
      "['python', 'is', 'easy']\n",
      "['python ', ' easy']\n",
      "['python is ', ', so ', ' to learn']\n"
     ]
    }
   ],
   "source": [
    "x=\"python is easy\"\n",
    "print(x.split())\n",
    "print(x.split(\"is\")) # split according to is , simply removing is \n",
    "x=\"python is easy, so easy to learn\"\n",
    "print(x.split(\"easy\"))"
   ]
  },
  {
   "cell_type": "code",
   "execution_count": 40,
   "id": "8c5a3eff",
   "metadata": {},
   "outputs": [
    {
     "name": "stdout",
     "output_type": "stream",
     "text": [
      "['12 ', ' 14', ' 18', ' 24', '']\n"
     ]
    }
   ],
   "source": [
    "x=\"12 | 14| 18| 24|\"\n",
    "print(x.split(\"|\"))"
   ]
  },
  {
   "cell_type": "markdown",
   "id": "f7b3868b",
   "metadata": {},
   "source": [
    "# Count,index and find operations in strings "
   ]
  },
  {
   "cell_type": "markdown",
   "id": "2ca2cd1e",
   "metadata": {},
   "source": [
    "Count \n",
    "counting a particular character in a string"
   ]
  },
  {
   "cell_type": "code",
   "execution_count": 50,
   "id": "33068cdf",
   "metadata": {},
   "outputs": [
    {
     "name": "stdout",
     "output_type": "stream",
     "text": [
      "24\n",
      "1\n",
      "1\n"
     ]
    }
   ],
   "source": [
    "c=\"python is easy to learn\"\n",
    "print(c.count(\"\")) # count all characters\n",
    "print(c.count(\"p\")) \n",
    "print(c.count(\"easy\")) "
   ]
  },
  {
   "cell_type": "markdown",
   "id": "18a62df7",
   "metadata": {},
   "source": [
    "Index\n",
    "Syntax: string.index(value, start, end)\n",
    "Value ==> Required. The value to search for\n",
    "start ==>Optional. Where to start the search. Default is 0\n",
    "end ==> Optional. Where to end the search. Default is to the end of the string"
   ]
  },
  {
   "cell_type": "code",
   "execution_count": 23,
   "id": "f5eb9151",
   "metadata": {},
   "outputs": [
    {
     "name": "stdout",
     "output_type": "stream",
     "text": [
      "4\n",
      "16\n",
      "25\n"
     ]
    }
   ],
   "source": [
    "c=\"python is easy to learn how\"\n",
    "print(c.index(\"o\")) # search o and returns index for first value \n",
    "print(c.index(\"o\",5)) # search after 5\n",
    "print(c.index(\"o\",17,26)) # search in between 17 and 26\n",
    "# never use thisindex use find, it gives errors if index value is not correct "
   ]
  },
  {
   "cell_type": "code",
   "execution_count": 27,
   "id": "85b86a33",
   "metadata": {},
   "outputs": [
    {
     "name": "stdout",
     "output_type": "stream",
     "text": [
      "4\n",
      "16\n",
      "25\n",
      "-1\n"
     ]
    }
   ],
   "source": [
    "c=\"python is easy to learn how\"\n",
    "print(c.find(\"o\"))\n",
    "print(c.find(\"o\",5,50))\n",
    "print(c.find(\"o\",17,70))\n",
    "print(c.find(\"o\",70)) # its not giving error saying -1 index ==>  substring error"
   ]
  },
  {
   "cell_type": "markdown",
   "id": "20ca361a",
   "metadata": {},
   "source": [
    "Sample project 1\n",
    "---------------------------------\n",
    "create a simple pyhon code where if a user entered an input we have to align it left,centre or right \n"
   ]
  },
  {
   "cell_type": "code",
   "execution_count": 28,
   "id": "45e48fab",
   "metadata": {},
   "outputs": [
    {
     "name": "stdout",
     "output_type": "stream",
     "text": [
      "enter the string below: python\n"
     ]
    }
   ],
   "source": [
    "str=input(\"enter the string below: \")\n"
   ]
  },
  {
   "cell_type": "markdown",
   "id": "987d912d",
   "metadata": {},
   "source": [
    "#we will write a simple code and execute in cmd \n",
    "==> str=input(\"enter the string below: \")\n",
    "C:\\Users\\prane\\Desktop>mode\n",
    "\n",
    "Status for device CON:\n",
    "    Lines:          9001\n",
    "    Columns:        120\n",
    "    Keyboard rate:  31\n",
    "    Keyboard delay: 1\n",
    "    Code page:      437\n",
    "here we have 120 colums i,e the length is 120 \n",
    "==> str=input(\"enter the string below: \")\n",
    "print(str.center(120))\n",
    "print(str.ljust(120))\n",
    "print(str.rjust(120)\n"
   ]
  },
  {
   "cell_type": "code",
   "execution_count": 32,
   "id": "7d74d657",
   "metadata": {},
   "outputs": [
    {
     "name": "stdout",
     "output_type": "stream",
     "text": [
      "enter the string below: Python is easy to learn\n",
      "                                                Python is easy to learn                                                 \n",
      "Python is easy to learn                                                                                                 \n",
      "                                                                                                 Python is easy to learn\n"
     ]
    }
   ],
   "source": [
    "str=input(\"enter the string below: \")\n",
    "print(str.center(120))\n",
    "print(str.ljust(120))\n",
    "print(str.rjust(120)) # the output is not clearly shown here but it works "
   ]
  },
  {
   "cell_type": "raw",
   "id": "7bb2d7ad",
   "metadata": {},
   "source": [
    "\n",
    "Problem? the problem here is it works only for your screen size ?\n",
    "         mode is 120 or your screen cmd \n",
    "         linux differnet\n",
    "         other laptops different \n",
    "         it wont work universally \n",
    "so you have to give generalised variables to find screen size apart from mode and \n",
    "manually enter into your script ?\n",
    "import os # os module has size \n",
    "os.get_terminal_size()\n",
    "# you will get columns and lines\n",
    "os.get_terminal_size().columns()\n",
    "\n",
    "Code ===>\n",
    "import os\n",
    "os=os.get_terminal_size()\n",
    "size=print(os.colums)\n",
    "str=input(\"enter the string below: \")\n",
    "str=input(\"enter the string below: \")\n",
    "print(str.center(size))\n",
    "print(str.ljust(size))\n",
    "print(str.rjust(size)"
   ]
  },
  {
   "cell_type": "code",
   "execution_count": 36,
   "id": "c37b8e38",
   "metadata": {},
   "outputs": [
    {
     "name": "stdout",
     "output_type": "stream",
     "text": [
      "enter the string below: hi i am praneeth\n",
      "                                                    hi i am praneeth                                                    \n",
      "hi i am praneeth                                                                                                        \n",
      "                                                                                                        hi i am praneeth\n"
     ]
    }
   ],
   "source": [
    "import os\n",
    "os=os.get_terminal_size()\n",
    "size=os.columns\n",
    "str=input(\"enter the string below: \")\n",
    "print(str.center(size))\n",
    "print(str.ljust(size))\n",
    "print(str.rjust(size))\n"
   ]
  },
  {
   "cell_type": "code",
   "execution_count": null,
   "id": "878cc1a8",
   "metadata": {},
   "outputs": [],
   "source": []
  }
 ],
 "metadata": {
  "kernelspec": {
   "display_name": "Python 3",
   "language": "python",
   "name": "python3"
  },
  "language_info": {
   "codemirror_mode": {
    "name": "ipython",
    "version": 3
   },
   "file_extension": ".py",
   "mimetype": "text/x-python",
   "name": "python",
   "nbconvert_exporter": "python",
   "pygments_lexer": "ipython3",
   "version": "3.9.5"
  },
  "toc": {
   "base_numbering": 1,
   "nav_menu": {},
   "number_sections": true,
   "sideBar": true,
   "skip_h1_title": false,
   "title_cell": "Table of Contents",
   "title_sidebar": "Contents",
   "toc_cell": false,
   "toc_position": {
    "height": "calc(100% - 180px)",
    "left": "10px",
    "top": "150px",
    "width": "273.188px"
   },
   "toc_section_display": true,
   "toc_window_display": false
  }
 },
 "nbformat": 4,
 "nbformat_minor": 5
}
