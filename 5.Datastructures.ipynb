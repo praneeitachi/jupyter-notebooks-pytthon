{
 "cells": [
  {
   "cell_type": "markdown",
   "id": "7129cfc6",
   "metadata": {},
   "source": [
    "# Data Structures in Python"
   ]
  },
  {
   "cell_type": "markdown",
   "id": "26508a28",
   "metadata": {},
   "source": [
    "==> Data stuctures are also vsriables used to store values \n",
    "==> but they are a collection of datainstaed of a single value they will take \n",
    "multiple values\n",
    "they are many but major 4 \n",
    "1.list[]\n",
    "2.tuple ()\n",
    "3.set {}\n",
    "4.dict {} with a key value pair"
   ]
  },
  {
   "cell_type": "code",
   "execution_count": 2,
   "id": "ffc81d58",
   "metadata": {},
   "outputs": [
    {
     "name": "stdout",
     "output_type": "stream",
     "text": [
      "5\n",
      "[1, 2, 3]\n"
     ]
    }
   ],
   "source": [
    "x=5 # its just a variable\n",
    "print(x)\n",
    "y=[1,2,3] # its a data structure (list)\n",
    "print(y) "
   ]
  },
  {
   "cell_type": "markdown",
   "id": "2cab6098",
   "metadata": {},
   "source": [
    "## list"
   ]
  },
  {
   "cell_type": "code",
   "execution_count": 8,
   "id": "4d94b8a0",
   "metadata": {},
   "outputs": [
    {
     "name": "stdout",
     "output_type": "stream",
     "text": [
      "False\n",
      "True\n"
     ]
    }
   ],
   "source": [
    "list=[]\n",
    "list1=[1,2,\"python\"]\n",
    "print(bool(list)) # bool(emoty list) ==> False\n",
    "print(bool(list1)) #bool(non-empty) ==> True\n",
    "# to split each char into a line we use join of \\n it wont work because its \n",
    "# a collection we can use for loops "
   ]
  },
  {
   "cell_type": "code",
   "execution_count": 15,
   "id": "48eafe03",
   "metadata": {},
   "outputs": [
    {
     "name": "stdout",
     "output_type": "stream",
     "text": [
      "python\n",
      "[2, 'python']\n",
      "3\n"
     ]
    }
   ],
   "source": [
    "# we can use the concept of index here \n",
    "print(list1[2])\n",
    "print(list1[1:3])\n",
    "print(len(list1)) # it says 3 values i.e index 2"
   ]
  },
  {
   "cell_type": "code",
   "execution_count": 16,
   "id": "8db88a51",
   "metadata": {},
   "outputs": [
    {
     "name": "stdout",
     "output_type": "stream",
     "text": [
      "y\n"
     ]
    }
   ],
   "source": [
    "print(list1[2][1]) \n",
    "# you can print substrings inside a string also \n",
    "# list1[2]===> python ==> [1]===> index 1 ==> y"
   ]
  },
  {
   "cell_type": "code",
   "execution_count": 18,
   "id": "c19035c8",
   "metadata": {},
   "outputs": [
    {
     "name": "stdout",
     "output_type": "stream",
     "text": [
      "[1, 2, 'python']\n",
      "[45, 2, 'python']\n"
     ]
    }
   ],
   "source": [
    "# you can modify lists also \n",
    "# they are mutable \n",
    "# we can change the list value after defined also \n",
    "list1=[1,2,\"python\"]\n",
    "print(list1)\n",
    "list1[0]=45\n",
    "print(list1)"
   ]
  },
  {
   "cell_type": "code",
   "execution_count": 19,
   "id": "ca45fecf",
   "metadata": {},
   "outputs": [
    {
     "name": "stdout",
     "output_type": "stream",
     "text": [
      "['__add__', '__class__', '__class_getitem__', '__contains__', '__delattr__', '__delitem__', '__dir__', '__doc__', '__eq__', '__format__', '__ge__', '__getattribute__', '__getitem__', '__gt__', '__hash__', '__iadd__', '__imul__', '__init__', '__init_subclass__', '__iter__', '__le__', '__len__', '__lt__', '__mul__', '__ne__', '__new__', '__reduce__', '__reduce_ex__', '__repr__', '__reversed__', '__rmul__', '__setattr__', '__setitem__', '__sizeof__', '__str__', '__subclasshook__', 'append', 'clear', 'copy', 'count', 'extend', 'index', 'insert', 'pop', 'remove', 'reverse', 'sort']\n"
     ]
    }
   ],
   "source": [
    "list1=[1,2,\"python\"]\n",
    "# operations you can perform using list are \n",
    "print(dir(list1))"
   ]
  },
  {
   "cell_type": "code",
   "execution_count": 4,
   "id": "6f68df4d",
   "metadata": {},
   "outputs": [
    {
     "name": "stdout",
     "output_type": "stream",
     "text": [
      "[1, 2, 'python']\n",
      "2161604678272 2161621585216\n"
     ]
    }
   ],
   "source": [
    "#COPY\n",
    "list1=[1,2,\"python\"]\n",
    "list2=list1.copy()\n",
    "print(list2)\n",
    "print(id(list1),id(list2))\n",
    "# copy operations? the address is different for a new copies one\n",
    "# if you defined list1=list2 id is same "
   ]
  },
  {
   "cell_type": "raw",
   "id": "1eb33bd4",
   "metadata": {},
   "source": [
    "some opperations on list \n",
    "index,count,append etc we will do "
   ]
  },
  {
   "cell_type": "code",
   "execution_count": 9,
   "id": "d48c60b3",
   "metadata": {},
   "outputs": [
    {
     "name": "stdout",
     "output_type": "stream",
     "text": [
      "1\n",
      "[1, 2, 'python']\n",
      "python\n",
      "h\n"
     ]
    }
   ],
   "source": [
    "#INDEX\n",
    "list1=[1,2,\"python\"]\n",
    "print(list1[0])\n",
    "print(list1[0:3]) # o tto n-1 ==> 0 to 3-1\n",
    "print(list1[2])\n",
    "print(list1[2][3])"
   ]
  },
  {
   "cell_type": "code",
   "execution_count": 12,
   "id": "ef715acb",
   "metadata": {},
   "outputs": [
    {
     "name": "stdout",
     "output_type": "stream",
     "text": [
      "5\n"
     ]
    }
   ],
   "source": [
    "#COUNT\n",
    "list1=[1,2,3,1,2,3,1,1,1]\n",
    "print(list1.count(1)) # counting a number or an item in the list "
   ]
  },
  {
   "cell_type": "code",
   "execution_count": 16,
   "id": "bfa73258",
   "metadata": {
    "scrolled": true
   },
   "outputs": [
    {
     "name": "stdout",
     "output_type": "stream",
     "text": [
      "[]\n"
     ]
    },
    {
     "data": {
      "text/plain": [
       "'\\nclear only applicable to clear all values in a list it wont clear a vale\\nbased on index\\n'"
      ]
     },
     "execution_count": 16,
     "metadata": {},
     "output_type": "execute_result"
    }
   ],
   "source": [
    "#CLEAR\n",
    "list1=[1,2,3,1,2,3,1,1,1]\n",
    "list1.clear() # clear used to perform clearing all the values \n",
    "print(list1)\n",
    "'''\n",
    "clear only applicable to clear all values in a list it wont clear a vale\n",
    "based on index\n",
    "'''\n"
   ]
  },
  {
   "cell_type": "raw",
   "id": "7bc7eb00",
   "metadata": {},
   "source": [
    "NOTE:\n",
    "    when we will use print and normal statement \n",
    "    Ex: \n",
    "        1. list1=[1,2,3,1,2,3,1,1,1]\n",
    "           list1.clear()\n",
    "        here we are modifying the info of  list so we wont use print option\n",
    "        2. list1=[1,2,\"python\"]\n",
    "           print(list1[0])\n",
    "        here we are performing print? to see the data on it, we are not                 modifying the data \n",
    "        you can store that into another variable and can print its value also\n",
    "        "
   ]
  },
  {
   "cell_type": "code",
   "execution_count": 23,
   "id": "5bd0f665",
   "metadata": {},
   "outputs": [
    {
     "name": "stdout",
     "output_type": "stream",
     "text": [
      "[1, 2, 3, 1, 2, 3, 1, 1, 1, 34]\n",
      "[1, 2, 3, 1, 2, 3, 1, 1, 1, 34, [2, 4]]\n"
     ]
    }
   ],
   "source": [
    "# APPEND\n",
    "# it adds at the end of a list\n",
    "list1=[1,2,3,1,2,3,1,1,1]\n",
    "list1.append(34)\n",
    "print(list1)\n",
    "list2=[2,4]\n",
    "list1.append(list2)\n",
    "print(list1)\n",
    "# in append it adds at the end even the square brackets it will add"
   ]
  },
  {
   "cell_type": "code",
   "execution_count": 19,
   "id": "f436c874",
   "metadata": {},
   "outputs": [
    {
     "name": "stdout",
     "output_type": "stream",
     "text": [
      "1\n",
      "[1, 2, 3, 43, 1, 2, 3, 1, 1, 1]\n"
     ]
    }
   ],
   "source": [
    "#INSERT \n",
    "#var.insert(index,value) ==> before the index it will insert\n",
    "list1=[1,2,3,1,2,3,1,1,1]\n",
    "print(list1[3])\n",
    "list1.insert(3,43)\n",
    "print(list1)"
   ]
  },
  {
   "cell_type": "code",
   "execution_count": 27,
   "id": "b7953963",
   "metadata": {},
   "outputs": [
    {
     "name": "stdout",
     "output_type": "stream",
     "text": [
      "[1, 2, 3, 4, [1, 2, 3, 4]]\n",
      "[1, 2, 3, 4, 1, 2, 3, 4]\n"
     ]
    }
   ],
   "source": [
    "#EXTEND\n",
    "list1=[1,2,3,4]\n",
    "list2=[1,2,3,4]\n",
    "list3=[1,2,3,4]\n",
    "list1.append(list2)\n",
    "print(list1)\n",
    "list2.extend(list3)\n",
    "print(list2)\n",
    "# extend it directly adds the values "
   ]
  },
  {
   "cell_type": "code",
   "execution_count": 33,
   "id": "c19668a3",
   "metadata": {},
   "outputs": [
    {
     "name": "stdout",
     "output_type": "stream",
     "text": [
      "[1, 2, 3, 4, 5]\n",
      "[1, 3, 4, 5]\n",
      "4\n",
      "[1, 3, 5]\n"
     ]
    }
   ],
   "source": [
    "# POP & REMOVE\n",
    "list1=[1,2,3,4,5,6]\n",
    "list1.pop()\n",
    "# by default it will remove last value\n",
    "print(list1)\n",
    "list1.pop(1)\n",
    "print(list1)\n",
    "# we can giv index value also to remove that value using pop \n",
    "print(list1.pop(2))#in pop only it will remove value in print (modify operation)\n",
    "print(list1)\n",
    "# pop can give info regarding which value its removing\n",
    "# we can use print statement to know which value pop is removing\n",
    "#pop removes value based on index "
   ]
  },
  {
   "cell_type": "code",
   "execution_count": 36,
   "id": "2016c6d0",
   "metadata": {},
   "outputs": [
    {
     "name": "stdout",
     "output_type": "stream",
     "text": [
      "[1, 3]\n"
     ]
    }
   ],
   "source": [
    "#REMOVE\n",
    "# removes the item based on value \n",
    "list1=[1,3,5]\n",
    "list1.remove(5)\n",
    "print(list1)     "
   ]
  },
  {
   "cell_type": "code",
   "execution_count": 41,
   "id": "481f208b",
   "metadata": {},
   "outputs": [
    {
     "name": "stdout",
     "output_type": "stream",
     "text": [
      "[1, 3, 5, 6, 7, 9]\n",
      "[6, 5, 7, 3, 9, 1]\n",
      "[9, 7, 6, 5, 3, 1]\n"
     ]
    }
   ],
   "source": [
    "# SORT & REVERSE \n",
    "list1=[1,9,3,7,5,6]\n",
    "list1.sort()\n",
    "print(list1)\n",
    "list1=[1,9,3,7,5,6]\n",
    "list1.reverse()\n",
    "print(list1)\n",
    "list1.sort(reverse=True)\n",
    "print(list1)"
   ]
  },
  {
   "cell_type": "markdown",
   "id": "488d680c",
   "metadata": {},
   "source": [
    "## Tuple"
   ]
  },
  {
   "cell_type": "raw",
   "id": "272f61aa",
   "metadata": {},
   "source": [
    "Tuples are defined using ()\n",
    "tuples are immutable i,e item assignment isnt possible\n",
    "bool(())==> False\n",
    "bool(non-empty)==> True"
   ]
  },
  {
   "cell_type": "code",
   "execution_count": 5,
   "id": "b0f1b51f",
   "metadata": {},
   "outputs": [
    {
     "name": "stdout",
     "output_type": "stream",
     "text": [
      "(1, 2, 3, 1, 1)\n",
      "True\n",
      "False\n"
     ]
    }
   ],
   "source": [
    "tup=(1,2,3,1,1)\n",
    "print(tup)\n",
    "print(bool(tup))\n",
    "tup1=()\n",
    "print(bool(tup1))"
   ]
  },
  {
   "cell_type": "code",
   "execution_count": 10,
   "id": "ab67709b",
   "metadata": {},
   "outputs": [
    {
     "name": "stdout",
     "output_type": "stream",
     "text": [
      "python\n"
     ]
    }
   ],
   "source": [
    "# you can define lists inside a tuple\n",
    "tup=(1,2,[2,3,\"python\"])\n",
    "print(tup[2][2])\n",
    "# it takes the list and on it it takes index value 2\n"
   ]
  },
  {
   "cell_type": "code",
   "execution_count": 11,
   "id": "874b2a49",
   "metadata": {},
   "outputs": [
    {
     "name": "stdout",
     "output_type": "stream",
     "text": [
      "['__add__', '__class__', '__class_getitem__', '__contains__', '__delattr__', '__dir__', '__doc__', '__eq__', '__format__', '__ge__', '__getattribute__', '__getitem__', '__getnewargs__', '__gt__', '__hash__', '__init__', '__init_subclass__', '__iter__', '__le__', '__len__', '__lt__', '__mul__', '__ne__', '__new__', '__reduce__', '__reduce_ex__', '__repr__', '__rmul__', '__setattr__', '__sizeof__', '__str__', '__subclasshook__', 'count', 'index']\n"
     ]
    }
   ],
   "source": [
    "# Operations you can perform in tuple are\n",
    "print(dir(tup))"
   ]
  },
  {
   "cell_type": "code",
   "execution_count": 14,
   "id": "749bd378",
   "metadata": {},
   "outputs": [
    {
     "name": "stdout",
     "output_type": "stream",
     "text": [
      "4\n",
      "5\n",
      "8\n"
     ]
    }
   ],
   "source": [
    "tup=(1,2,1,1,3,4,5,1)\n",
    "print(tup.count(1))\n",
    "print(tup.index(4)) \n",
    "# index of value 4 is at ? \n",
    "print(len(tup)) \n",
    "# you can define length of tuple because once define its fixed \n"
   ]
  },
  {
   "cell_type": "code",
   "execution_count": 15,
   "id": "72dc6299",
   "metadata": {},
   "outputs": [
    {
     "name": "stdout",
     "output_type": "stream",
     "text": [
      "<class 'int'>\n",
      "<class 'tuple'>\n",
      "<class 'tuple'>\n"
     ]
    }
   ],
   "source": [
    "# alternative way to define tuples\n",
    "x=1\n",
    "print(type(x))\n",
    "x=1,\n",
    "print(type(x))\n",
    "x=1,2,3,\"python\"\n",
    "print(type(x))"
   ]
  },
  {
   "cell_type": "markdown",
   "id": "bc7a39db",
   "metadata": {},
   "source": [
    "## Set"
   ]
  },
  {
   "cell_type": "raw",
   "id": "ee6ce8e1",
   "metadata": {},
   "source": [
    "Sets are unordered collection of data \n",
    "sets - items are non-repeatables \n",
    "bool(emptysets) ==> False\n",
    "bool(non-empty) ==> True\n",
    "--------- in python terminal\n",
    ">>> list=[1,2,1,1,1]\n",
    ">>> set(list)\n",
    "{1, 2}\n",
    ">>>\n",
    "-----------------------"
   ]
  },
  {
   "cell_type": "code",
   "execution_count": 23,
   "id": "4b8bc1ba",
   "metadata": {},
   "outputs": [
    {
     "name": "stdout",
     "output_type": "stream",
     "text": [
      "['__and__', '__class__', '__class_getitem__', '__contains__', '__delattr__', '__dir__', '__doc__', '__eq__', '__format__', '__ge__', '__getattribute__', '__gt__', '__hash__', '__iand__', '__init__', '__init_subclass__', '__ior__', '__isub__', '__iter__', '__ixor__', '__le__', '__len__', '__lt__', '__ne__', '__new__', '__or__', '__rand__', '__reduce__', '__reduce_ex__', '__repr__', '__ror__', '__rsub__', '__rxor__', '__setattr__', '__sizeof__', '__str__', '__sub__', '__subclasshook__', '__xor__', 'add', 'clear', 'copy', 'difference', 'difference_update', 'discard', 'intersection', 'intersection_update', 'isdisjoint', 'issubset', 'issuperset', 'pop', 'remove', 'symmetric_difference', 'symmetric_difference_update', 'union', 'update']\n"
     ]
    }
   ],
   "source": [
    "# operations we can perform on sets \n",
    "print(dir(set))"
   ]
  },
  {
   "cell_type": "code",
   "execution_count": 30,
   "id": "1ecf4533",
   "metadata": {},
   "outputs": [
    {
     "name": "stdout",
     "output_type": "stream",
     "text": [
      "{1, 2, 3, 4, 5}\n",
      "{2, 3}\n",
      "{2, 3, 4, 5, 10}\n"
     ]
    }
   ],
   "source": [
    "a={1,2,3}\n",
    "b={2,3,4,5}\n",
    "a.union(b)\n",
    "a.intersection(b)\n",
    "print(a.union(b))\n",
    "print(a.intersection(b))\n",
    "b.add(10)\n",
    "print(b)"
   ]
  },
  {
   "cell_type": "markdown",
   "id": "fbcc688b",
   "metadata": {},
   "source": [
    "## Dictionary"
   ]
  },
  {
   "cell_type": "code",
   "execution_count": 31,
   "id": "dc2e1dd1",
   "metadata": {},
   "outputs": [
    {
     "name": "stdout",
     "output_type": "stream",
     "text": [
      "<class 'dict'>\n"
     ]
    }
   ],
   "source": [
    "b={}\n",
    "# by default empty set is a dictioonary\n",
    "# dictionary and sets are defined using {}\n",
    "# dictionaries are ordered sets i,e based on your defined values it will print\n",
    "print(type(b))"
   ]
  },
  {
   "cell_type": "code",
   "execution_count": 36,
   "id": "064bbc11",
   "metadata": {},
   "outputs": [
    {
     "name": "stdout",
     "output_type": "stream",
     "text": [
      "{'fruit': 'apple', 'banana': 'yellow fruit'}\n",
      "yellow fruit\n",
      "yellow fruit\n",
      "None\n"
     ]
    }
   ],
   "source": [
    "#Dictionaries are key value pairs \n",
    "dict={\"fruit\":\"apple\",\"banana\":\"yellow fruit\"}\n",
    "print(dict)\n",
    "# 1st way to call a key \n",
    "print(dict[\"banana\"])\n",
    "# you have to call the key instead of index \n",
    "# 2nd way to call key\n",
    "print(dict.get(\"banana\"))\n",
    "print(dict.get(\"apple\"))\n",
    "# here we called using value if you use 1stway it throws error \n",
    "# so use 2nd way always to avoid error since python is interpreted language"
   ]
  },
  {
   "cell_type": "code",
   "execution_count": 37,
   "id": "a790916e",
   "metadata": {},
   "outputs": [
    {
     "name": "stdout",
     "output_type": "stream",
     "text": [
      "['__class__', '__class_getitem__', '__contains__', '__delattr__', '__delitem__', '__dir__', '__doc__', '__eq__', '__format__', '__ge__', '__getattribute__', '__getitem__', '__gt__', '__hash__', '__init__', '__init_subclass__', '__ior__', '__iter__', '__le__', '__len__', '__lt__', '__ne__', '__new__', '__or__', '__reduce__', '__reduce_ex__', '__repr__', '__reversed__', '__ror__', '__setattr__', '__setitem__', '__sizeof__', '__str__', '__subclasshook__', 'clear', 'copy', 'fromkeys', 'get', 'items', 'keys', 'pop', 'popitem', 'setdefault', 'update', 'values']\n"
     ]
    }
   ],
   "source": [
    "# operations you can perform using dict\n",
    "print(dir(dict))"
   ]
  },
  {
   "cell_type": "code",
   "execution_count": 39,
   "id": "b16d1d56",
   "metadata": {},
   "outputs": [
    {
     "name": "stdout",
     "output_type": "stream",
     "text": [
      "{}\n"
     ]
    }
   ],
   "source": [
    "# clearing the dictionary\n",
    "dict.clear()\n",
    "print(dict)"
   ]
  },
  {
   "cell_type": "code",
   "execution_count": 44,
   "id": "2adf3f5c",
   "metadata": {},
   "outputs": [
    {
     "name": "stdout",
     "output_type": "stream",
     "text": [
      "{'my_name': 'praneeth', 'my_girlfriend': 'deepthi'}\n",
      "{'my_name': 'praneeth', 'my_girlfriend': 'deepu'}\n"
     ]
    }
   ],
   "source": [
    "# adding a key value in the dictionary\n",
    "dict[\"my_name\"]=\"praneeth\"\n",
    "print(dict)\n",
    "dict[\"my_girlfriend\"]=\"deepu\"\n",
    "print(dict)"
   ]
  },
  {
   "cell_type": "code",
   "execution_count": 46,
   "id": "7adb77bc",
   "metadata": {},
   "outputs": [
    {
     "name": "stdout",
     "output_type": "stream",
     "text": [
      "{'my_name': 'praneeth', 'my_girlfriend': 'soumya'}\n"
     ]
    }
   ],
   "source": [
    "# you can change the values of a key\n",
    "dict[\"my_girlfriend\"]=\"soumya\"\n",
    "print(dict)"
   ]
  },
  {
   "cell_type": "code",
   "execution_count": 51,
   "id": "9e4c5299",
   "metadata": {},
   "outputs": [
    {
     "name": "stdout",
     "output_type": "stream",
     "text": [
      "dict_keys(['my_name', 'my_girlfriend'])\n",
      "dict_values(['praneeth', 'soumya'])\n",
      "dict_items([('my_name', 'praneeth'), ('my_girlfriend', 'soumya')])\n"
     ]
    }
   ],
   "source": [
    "# list of keys and values only \n",
    "print(dict.keys())\n",
    "print(dict.values())\n",
    "print(dict.items())\n",
    "# you are getting a key and a value as an item "
   ]
  },
  {
   "cell_type": "code",
   "execution_count": 67,
   "id": "b05daadc",
   "metadata": {},
   "outputs": [
    {
     "name": "stdout",
     "output_type": "stream",
     "text": [
      "{'fruit': 'apple', 'banana': 'yellow fruit', 'human': 'male,female', 'animal': 'fox'}\n"
     ]
    }
   ],
   "source": [
    "# update\n",
    "# you can add a dictionary to another dictionary using update\n",
    "dict={\"fruit\":\"apple\",\"banana\":\"yellow fruit\"}\n",
    "dict1={\"human\":\"male,female\",\"animal\":\"fox\"}\n",
    "dict.update(dict1)\n",
    "print(dict)"
   ]
  },
  {
   "cell_type": "raw",
   "id": "9099ccbe",
   "metadata": {},
   "source": [
    "# pop\n",
    "# it is used to remove a key \n",
    "#popitem \n",
    "# we can remove an item in a dict \n",
    "------------------\n",
    "in cmd\n",
    "-------------------------------------------------------\n",
    ">>> dict={\"key\":\"value\",\"fruit\":\"banana\",\"man\":\"male\"}\n",
    ">>> dict.pop(\"key\")\n",
    "'value'\n",
    ">>> dict\n",
    "{'fruit': 'banana', 'man': 'male'}\n",
    ">>> dict.popitem()\n",
    "('man', 'male')\n",
    ">>> dict\n",
    "{'fruit': 'banana'}\n",
    "--------------------------------------------------------"
   ]
  },
  {
   "cell_type": "code",
   "execution_count": 73,
   "id": "59d9044a",
   "metadata": {},
   "outputs": [
    {
     "name": "stdout",
     "output_type": "stream",
     "text": [
      "{'name': None, 'id': None, 'ctc': None, 'designation': None}\n"
     ]
    }
   ],
   "source": [
    "# fromkeys\n",
    "# you can define a dictionary from a set of keys\n",
    "keys=[\"name\",\"id\",\"ctc\",\"designation\"]\n",
    "dict=dict.fromkeys(keys)\n",
    "print(dict)"
   ]
  },
  {
   "cell_type": "code",
   "execution_count": 80,
   "id": "3043135e",
   "metadata": {},
   "outputs": [
    {
     "name": "stdout",
     "output_type": "stream",
     "text": [
      "{'name': 'praneeth', 'company': 'hcl', 'employee_id': '1204'}\n",
      "{'name': 'praneeth', 'company': 'hcl', 'employee_id': '1204'}\n",
      "{'name': 'praneeth', 'employee_id': '1204', 'company': 'accenture'}\n"
     ]
    }
   ],
   "source": [
    "#setdefault\n",
    "#we can set a key as default if its available it prints its value\n",
    "# if its not available the default key and value is assigned\n",
    "dict={\"name\":\"praneeth\",\"company\":\"hcl\",\"employee_id\":\"1204\"}\n",
    "print(dict)\n",
    "dict.setdefault(\"company\",'accenture')\n",
    "print(dict)\n",
    "# here value is present so default value is not defined\n",
    "dict={\"name\":\"praneeth\",\"employee_id\":\"1204\"}\n",
    "dict.setdefault(\"company\",'accenture')\n",
    "print(dict)\n",
    "# here value is not present do default value is added "
   ]
  },
  {
   "cell_type": "code",
   "execution_count": null,
   "id": "e083dc3a",
   "metadata": {},
   "outputs": [],
   "source": []
  }
 ],
 "metadata": {
  "kernelspec": {
   "display_name": "Python 3",
   "language": "python",
   "name": "python3"
  },
  "language_info": {
   "codemirror_mode": {
    "name": "ipython",
    "version": 3
   },
   "file_extension": ".py",
   "mimetype": "text/x-python",
   "name": "python",
   "nbconvert_exporter": "python",
   "pygments_lexer": "ipython3",
   "version": "3.9.5"
  },
  "toc": {
   "base_numbering": 1,
   "nav_menu": {},
   "number_sections": true,
   "sideBar": true,
   "skip_h1_title": false,
   "title_cell": "Table of Contents",
   "title_sidebar": "Contents",
   "toc_cell": false,
   "toc_position": {},
   "toc_section_display": true,
   "toc_window_display": false
  }
 },
 "nbformat": 4,
 "nbformat_minor": 5
}
